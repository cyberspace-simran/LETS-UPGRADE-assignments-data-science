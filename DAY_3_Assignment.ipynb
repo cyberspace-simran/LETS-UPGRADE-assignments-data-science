{
 "cells": [
  {
   "cell_type": "raw",
   "metadata": {},
   "source": [
    "Questions 1:\n",
    "Create a numpy array starting from 2 till 50 with a stepsize of 3."
   ]
  },
  {
   "cell_type": "code",
   "execution_count": 1,
   "metadata": {},
   "outputs": [
    {
     "data": {
      "text/plain": [
       "array([ 2,  5,  8, 11, 14, 17, 20, 23, 26, 29, 32, 35, 38, 41, 44, 47, 50])"
      ]
     },
     "execution_count": 1,
     "metadata": {},
     "output_type": "execute_result"
    }
   ],
   "source": [
    "import numpy as np\n",
    "hlo = np.arange(2 ,51, 3)\n",
    "hlo"
   ]
  },
  {
   "cell_type": "raw",
   "metadata": {},
   "source": [
    "Questions 2:\n",
    "Accept two lists of 5 elements each from the user.\n",
    "Convert them to numpy arrays. Concatenate these arrays and print it. Also sort these arrays and print it."
   ]
  },
  {
   "cell_type": "code",
   "execution_count": 2,
   "metadata": {},
   "outputs": [
    {
     "name": "stdout",
     "output_type": "stream",
     "text": [
      "8\n",
      "4\n",
      "2\n",
      "6\n",
      "0\n",
      "List1 : [8, 4, 2, 6, 0]\n",
      "3\n",
      "9\n",
      "7\n",
      "1\n",
      "5\n",
      "List2 [3, 9, 7, 1, 5]\n",
      "List1 to array convert  : [8 4 2 6 0]\n",
      "List2 to array convert  : [3 9 7 1 5]\n",
      "concatenation of arrays are : [8 4 2 6 0 3 9 7 1 5]\n",
      "Sorted array : [0 1 2 3 4 5 6 7 8 9]\n"
     ]
    }
   ],
   "source": [
    "import numpy as np\n",
    "\n",
    "list1 = []\n",
    "list2 = []\n",
    "\n",
    "for i in range(5):\n",
    "    accept = int(input())\n",
    "    list1.append(accept)\n",
    "\n",
    "print(\"List1 :\",list1)\n",
    "\n",
    "for i in range(5):\n",
    "    accept = int(input())\n",
    "    list2.append(accept)\n",
    "\n",
    "print(\"List2\", list2)\n",
    "\n",
    "# conversion of List to Array\n",
    "\n",
    "array1 = np.array(list1)\n",
    "array2 = np.array(list2)\n",
    "print(\"List1 to array convert  :\", array1)\n",
    "print(\"List2 to array convert  :\", array2)\n",
    "\n",
    "# concatenation of arrays\n",
    "\n",
    "array_concatination = np.concatenate((array1, array2))\n",
    "\n",
    "print(\"concatenation of arrays are :\", array_concatination)\n",
    "\n",
    "# Sorting of array\n",
    "\n",
    "print(\"Sorted array :\", np.sort(array_concatination))"
   ]
  },
  {
   "cell_type": "raw",
   "metadata": {},
   "source": [
    "Questions 3:\n",
    "Write a code snippet to find the dimensions of a ndarray and its size."
   ]
  },
  {
   "cell_type": "code",
   "execution_count": 3,
   "metadata": {},
   "outputs": [
    {
     "name": "stdout",
     "output_type": "stream",
     "text": [
      "Dimensions of a nd array is : 2\n",
      "Size of an array is : 12\n"
     ]
    }
   ],
   "source": [
    "import numpy as np\n",
    "\n",
    "my_array = np.array([[11, 14, 27], [5, 8, 9], [1, 9, 17], [13, 7, 19]])\n",
    "print(\"Dimensions of a nd array is :\", my_array.ndim)\n",
    "\n",
    "print(\"Size of an array is :\", my_array.size)"
   ]
  },
  {
   "cell_type": "raw",
   "metadata": {},
   "source": [
    "Questions 4:\n",
    "How to convert a 1D array into a 2D array? Demonstrate with the help of a code snippet\n",
    "Hint: np.newaxis, np.expand_dims"
   ]
  },
  {
   "cell_type": "code",
   "execution_count": 4,
   "metadata": {},
   "outputs": [
    {
     "name": "stdout",
     "output_type": "stream",
     "text": [
      "5\n",
      "1D array (shape) : (5,)\n",
      "2D array for row is : (1, 5)\n",
      "2D array for column is : (5, 1)\n"
     ]
    }
   ],
   "source": [
    "import numpy as np\n",
    "\n",
    "arr = np.arange(int(input()))\n",
    "print(\"1D array (shape) :\", arr.shape)\n",
    "\n",
    "array_row = arr[np.newaxis]\n",
    "print(\"2D array for row is :\", array_row.shape)\n",
    "\n",
    "array_col = arr[:, np.newaxis]\n",
    "print(\"2D array for column is :\", array_col.shape)"
   ]
  },
  {
   "cell_type": "code",
   "execution_count": 5,
   "metadata": {},
   "outputs": [
    {
     "data": {
      "text/plain": [
       "array([[1, 2]])"
      ]
     },
     "execution_count": 5,
     "metadata": {},
     "output_type": "execute_result"
    }
   ],
   "source": [
    "x = np.array([1, 2])\n",
    "y = np.expand_dims(x, axis=0)\n",
    "y\n"
   ]
  },
  {
   "cell_type": "code",
   "execution_count": 6,
   "metadata": {},
   "outputs": [
    {
     "data": {
      "text/plain": [
       "(1, 2)"
      ]
     },
     "execution_count": 6,
     "metadata": {},
     "output_type": "execute_result"
    }
   ],
   "source": [
    "y.shape"
   ]
  },
  {
   "cell_type": "code",
   "execution_count": 7,
   "metadata": {},
   "outputs": [
    {
     "data": {
      "text/plain": [
       "array([[1],\n",
       "       [2]])"
      ]
     },
     "execution_count": 7,
     "metadata": {},
     "output_type": "execute_result"
    }
   ],
   "source": [
    "yz = np.expand_dims(x, axis=1)\n",
    "yz"
   ]
  },
  {
   "cell_type": "code",
   "execution_count": 8,
   "metadata": {},
   "outputs": [
    {
     "data": {
      "text/plain": [
       "(2, 1)"
      ]
     },
     "execution_count": 8,
     "metadata": {},
     "output_type": "execute_result"
    }
   ],
   "source": [
    "yz.shape"
   ]
  },
  {
   "cell_type": "raw",
   "metadata": {},
   "source": [
    "Questions 5:\n",
    "Consider two square numpy arrays. Stack them vertically and horizontally.\n",
    "Hint: Use vstack(), hstack()"
   ]
  },
  {
   "cell_type": "code",
   "execution_count": 9,
   "metadata": {},
   "outputs": [
    {
     "name": "stdout",
     "output_type": "stream",
     "text": [
      " horizontal stack:\n",
      " [2601  196   25   64   81  676  529   25   49  196 5625   64 3136   81\n",
      " 1369   16  625   36]\n",
      "vertical stack :\n",
      "  [[2601  196   25   64   81  676  529   25   49]\n",
      " [ 196 5625   64 3136   81 1369   16  625   36]]\n"
     ]
    }
   ],
   "source": [
    "import numpy as np\n",
    "\n",
    "array1 = np.square([51, 14, 5, 8, 9, 26, 23, 5, 7])  # square of numpy array\n",
    "array2 = np.square([14, 75, 8, 56, 9, 37, 4, 25, 6])  # square of numpy array\n",
    "\n",
    "\n",
    "print(\" horizontal stack:\\n\", np.hstack((array1, array2)))\n",
    "\n",
    "print(\"vertical stack :\\n \", np.vstack((array1, array2)))"
   ]
  },
  {
   "cell_type": "raw",
   "metadata": {},
   "source": [
    "Questions 6:\n",
    "How to get unique items and counts of unique items?"
   ]
  },
  {
   "cell_type": "code",
   "execution_count": 10,
   "metadata": {},
   "outputs": [
    {
     "name": "stdout",
     "output_type": "stream",
     "text": [
      "[10 10 50 40  4  4  4  8  7  8  9  5  6  5  4  4 12 13 13]\n",
      "Frequency of unique values:\n",
      "[[ 4  5  6  7  8  9 10 12 13 40 50]\n",
      " [ 5  2  1  1  2  1  2  1  2  1  1]]\n"
     ]
    }
   ],
   "source": [
    "import numpy as np\n",
    "a = np.array( [10,10,50, 40, 4, 4, 4, 8, 7, 8, 9, 5, 6, 5, 4, 4, 12, 13, 13] )\n",
    "print(a)\n",
    "unique, counts = np.unique(a, return_counts=True)\n",
    "print(\"Frequency of unique values:\")\n",
    "print(np.asarray((unique, counts)))"
   ]
  },
  {
   "cell_type": "code",
   "execution_count": 11,
   "metadata": {},
   "outputs": [
    {
     "name": "stdout",
     "output_type": "stream",
     "text": [
      "[ 4  4  4  4  8  7  8  9  5  6  5  4  4 12 13 13]\n",
      "[[ 4  6]\n",
      " [ 5  2]\n",
      " [ 6  1]\n",
      " [ 7  1]\n",
      " [ 8  2]\n",
      " [ 9  1]\n",
      " [12  1]\n",
      " [13  2]]\n"
     ]
    }
   ],
   "source": [
    "import numpy as np\n",
    "\n",
    "arr = np.array([4, 4, 4, 4, 8, 7, 8, 9, 5, 6, 5, 4, 4, 12, 13, 13])\n",
    "print(arr)\n",
    "unique, counts = np.unique(arr, return_counts=True)\n",
    "arr = np.asarray((unique, counts)).T\n",
    "print(arr)"
   ]
  },
  {
   "cell_type": "code",
   "execution_count": null,
   "metadata": {},
   "outputs": [],
   "source": []
  }
 ],
 "metadata": {
  "kernelspec": {
   "display_name": "Python 3",
   "language": "python",
   "name": "python3"
  },
  "language_info": {
   "codemirror_mode": {
    "name": "ipython",
    "version": 3
   },
   "file_extension": ".py",
   "mimetype": "text/x-python",
   "name": "python",
   "nbconvert_exporter": "python",
   "pygments_lexer": "ipython3",
   "version": "3.8.5"
  }
 },
 "nbformat": 4,
 "nbformat_minor": 4
}
